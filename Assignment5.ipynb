{
  "nbformat": 4,
  "nbformat_minor": 0,
  "metadata": {
    "colab": {
      "provenance": [],
      "authorship_tag": "ABX9TyNcn/wroQREt42LAq7arsYf",
      "include_colab_link": true
    },
    "kernelspec": {
      "name": "python3",
      "display_name": "Python 3"
    },
    "language_info": {
      "name": "python"
    }
  },
  "cells": [
    {
      "cell_type": "markdown",
      "metadata": {
        "id": "view-in-github",
        "colab_type": "text"
      },
      "source": [
        "<a href=\"https://colab.research.google.com/github/leeeeegayeon/Assignment5/blob/main/Assignment5.ipynb\" target=\"_parent\"><img src=\"https://colab.research.google.com/assets/colab-badge.svg\" alt=\"Open In Colab\"/></a>"
      ]
    },
    {
      "cell_type": "markdown",
      "source": [],
      "metadata": {
        "id": "RZ3zKrv5MusW"
      }
    },
    {
      "cell_type": "markdown",
      "source": [
        "#3 생일이 느린 순서로 10명의 친구를 출력하는 코드"
      ],
      "metadata": {
        "id": "xaRKQRBdMv3N"
      }
    },
    {
      "cell_type": "code",
      "source": [
        "import pandas as pd\n",
        "from datetime import datetime\n",
        "\n",
        "class Heap:\n",
        "    def __init__(self, *args):\n",
        "        if len(args) != 0:\n",
        "            self.__A = args[0]\n",
        "        else:\n",
        "            self.__A = []\n",
        "\n",
        "    def insert(self, x):\n",
        "        self.__A.append(x)\n",
        "        self.__percolateUp(len(self.__A)-1)\n",
        "\n",
        "    def __percolateUp(self, i: int):\n",
        "        parent = (i - 1) // 2\n",
        "        if i > 0 and self.__A[i] > self.__A[parent]:\n",
        "            self.__A[i], self.__A[parent] = self.__A[parent], self.__A[i]\n",
        "            self.__percolateUp(parent)\n",
        "\n",
        "    def deleteMax(self):\n",
        "        if not self.isEmpty():\n",
        "            max = self.__A[0]\n",
        "            self.__A[0] = self.__A.pop()\n",
        "            self.__percolateDown(0)\n",
        "            return max\n",
        "        else:\n",
        "            return None\n",
        "\n",
        "    def __percolateDown(self, i: int):\n",
        "        child = 2 * i + 1\n",
        "        right = 2 * i + 2\n",
        "        if child <= len(self.__A) - 1:\n",
        "            if right <= len(self.__A) - 1 and self.__A[child] < self.__A[right]:\n",
        "                child = right\n",
        "            if self.__A[i] < self.__A[child]:\n",
        "                self.__A[i], self.__A[child] = self.__A[child], self.__A[i]\n",
        "                self.__percolateDown(child)\n",
        "\n",
        "    def isEmpty(self) -> bool:\n",
        "        return len(self.__A) == 0\n",
        "\n",
        "df = pd.read_csv(\"birthday.csv\")\n",
        "df.columns = ['학번', '이름', '생년월일']\n",
        "\n",
        "df['생년월일'] = df['생년월일'].dropna().astype(float).astype(int).astype(str)\n",
        "df['생년월일'] = pd.to_datetime(df['생년월일'], format='%Y%m%d', errors='coerce')\n",
        "df['출생연도'] = df['생년월일'].dt.year\n",
        "\n",
        "df_2004 = df[df['출생연도'] == 2004]\n",
        "\n",
        "heap = Heap()\n",
        "for _, row in df_2004.iterrows():\n",
        "    heap.insert((row['생년월일'], row['이름']))\n",
        "\n",
        "top10 = [heap.deleteMax() for _ in range(10)]\n",
        "\n",
        "for 생일, 이름 in top10:\n",
        "    print(f\"{이름}: {생일.strftime('%Y-%m-%d')}\")"
      ],
      "metadata": {
        "colab": {
          "base_uri": "https://localhost:8080/"
        },
        "id": "-Cmr9sDxM6vi",
        "outputId": "fbd7c3df-b33e-4be5-8b9b-689b60513db6"
      },
      "execution_count": 2,
      "outputs": [
        {
          "output_type": "stream",
          "name": "stdout",
          "text": [
            "강주영: 2004-12-28\n",
            "김수민: 2004-12-07\n",
            "신다연: 2004-12-06\n",
            "정세원: 2004-11-21\n",
            "송민서: 2004-11-08\n",
            "강윤서: 2004-11-08\n",
            "이재인: 2004-11-07\n",
            "두경은: 2004-11-05\n",
            "나주희: 2004-11-04\n",
            "강수아: 2004-11-03\n"
          ]
        }
      ]
    },
    {
      "cell_type": "markdown",
      "source": [
        "#4 같은 조의 친구들만 이름과 생년월일을 출력하는 코드"
      ],
      "metadata": {
        "id": "4k4jjse8Nqqc"
      }
    },
    {
      "cell_type": "code",
      "source": [
        "import pandas as pd\n",
        "from datetime import datetime\n",
        "\n",
        "class BidirectNode:\n",
        "    def __init__(self, item, prev, next):\n",
        "        self.item = item\n",
        "        self.prev = prev\n",
        "        self.next = next\n",
        "\n",
        "class CircularDoublyLinkedList:\n",
        "    def __init__(self):\n",
        "        self.__head = BidirectNode(\"dummy\", None, None)\n",
        "        self.__head.prev = self.__head\n",
        "        self.__head.next = self.__head\n",
        "        self.__numItems = 0\n",
        "\n",
        "    def append(self, newItem):\n",
        "        prev = self.__head.prev\n",
        "        newNode = BidirectNode(newItem, prev, self.__head)\n",
        "        prev.next = newNode\n",
        "        self.__head.prev = newNode\n",
        "        self.__numItems += 1\n",
        "\n",
        "    def __iter__(self):\n",
        "        self.iterPosition = self.__head.next\n",
        "        return self\n",
        "\n",
        "    def __next__(self):\n",
        "        if self.iterPosition == self.__head:\n",
        "            raise StopIteration\n",
        "        else:\n",
        "            item = self.iterPosition.item\n",
        "            self.iterPosition = self.iterPosition.next\n",
        "            return item\n",
        "\n",
        "team_names = [\n",
        "    '이원진', '박찬미', '박혜린', '전민서', '임서영',\n",
        "    '이서현', '안소민', '이채민', '이예림', '이수빈',\n",
        "    '김효리', '이지영', '이진', '김나림', '이가연'\n",
        "]\n",
        "\n",
        "df = pd.read_csv(\"birthday.csv\")\n",
        "df.columns = ['학번', '이름', '생년월일']\n",
        "df = df[['이름', '생년월일']]\n",
        "\n",
        "\n",
        "df['생년월일'] = df['생년월일'].dropna().astype(float).astype(int).astype(str)\n",
        "df['생년월일'] = pd.to_datetime(df['생년월일'], format='%Y%m%d', errors='coerce')\n",
        "\n",
        "df_team=df[df['이름'].isin(team_names)][['이름','생년월일']].dropna().reset_index(drop=True)\n",
        "\n",
        "cdll = CircularDoublyLinkedList()\n",
        "for _, row in df_team.iterrows():\n",
        "    cdll.append((row['이름'], row['생년월일'].strftime('%Y-%m-%d')))\n",
        "\n",
        "print(\"[같은 조 팀원의 생일 목록]\")\n",
        "for 이름, 생일 in cdll:\n",
        "    print(f\"{이름}: {생일}\")"
      ],
      "metadata": {
        "colab": {
          "base_uri": "https://localhost:8080/"
        },
        "id": "p6CbpHXsNyu-",
        "outputId": "faa7ebe2-1c86-4e80-ff10-dcc4c2e3a5e1"
      },
      "execution_count": 6,
      "outputs": [
        {
          "output_type": "stream",
          "name": "stdout",
          "text": [
            "[같은 조 팀원의 생일 목록]\n",
            "김나림: 2003-08-05\n",
            "김효리: 2001-12-12\n",
            "박찬미: 2000-05-07\n",
            "박혜린: 2003-06-03\n",
            "안소민: 2004-04-20\n",
            "이가연: 2004-09-27\n",
            "이서현: 2004-06-09\n",
            "이수빈: 2004-09-10\n",
            "이예림: 2002-12-15\n",
            "이원진: 2005-06-02\n",
            "이진: 2002-04-15\n",
            "임서영: 2005-02-07\n",
            "전민서: 2004-03-18\n"
          ]
        }
      ]
    },
    {
      "cell_type": "markdown",
      "source": [
        "#5 교재 8장 힙 풀이"
      ],
      "metadata": {
        "id": "tgdsuqbLOpaK"
      }
    },
    {
      "cell_type": "markdown",
      "source": [],
      "metadata": {
        "id": "ucgRzY2yPBJs"
      }
    },
    {
      "cell_type": "markdown",
      "source": [
        "##5.1"
      ],
      "metadata": {
        "id": "kr_G5NnKO5V4"
      }
    },
    {
      "cell_type": "markdown",
      "source": [
        " 더 얕은 곳에 있는 원소가 더 깊은 곳에 있는 원소보다 더 작은 값을 가질 수 있습니다. 최대 힙은 부모 노드 값>=자식노드 값인 완전 이진 트리입니다. 최대 힙에서는 자식 노드보다 부모노드가 크기만 하면 되고 전체 트리 구조의 깊이에 따라 값의 크기가 정해지는 건 아니기 때문입니다.\n"
      ],
      "metadata": {
        "id": "rvuZgqkvO9pO"
      }
    },
    {
      "cell_type": "markdown",
      "source": [
        "##5.2"
      ],
      "metadata": {
        "id": "Pzi_WSVtPC4y"
      }
    },
    {
      "cell_type": "markdown",
      "source": [
        "항상 작은 값은 아닙니다. 예를 들어 A = [100, 80, 90, 40, 70, 95, 60]의 최대 힙 배열은 A[6]=60이 마지막 값인데 40으로 더 작은 값들이 앞에 있으므로 가장 작은 값이 아닙니다."
      ],
      "metadata": {
        "id": "kOMlt8_8PKCk"
      }
    },
    {
      "cell_type": "markdown",
      "source": [
        "##5.3\n"
      ],
      "metadata": {
        "id": "TYUeYj8cPZei"
      }
    },
    {
      "cell_type": "markdown",
      "source": [
        "⌊n/2⌋개입니다. 완전 이진 트리에서 전체 노드 수가 n개일 때 리프 노드의 개수는 ⌊n/2⌋개입니다. 왜냐하면 리프 노드는 자식이 없기 떄문입니다."
      ],
      "metadata": {
        "id": "9PFaoZ-qPbKZ"
      }
    },
    {
      "cell_type": "markdown",
      "source": [
        "##5.4"
      ],
      "metadata": {
        "id": "COWlduNqPeaJ"
      }
    },
    {
      "cell_type": "markdown",
      "source": [
        "최악의 경우 시간 복잡도는 Θ(log n)이고 최선의 경우 시간 복잡도는 Θ(1)입니다."
      ],
      "metadata": {
        "id": "mBvhSmakPha3"
      }
    },
    {
      "cell_type": "markdown",
      "source": [
        "##5.5"
      ],
      "metadata": {
        "id": "j_SSM1vKPiJf"
      }
    },
    {
      "cell_type": "markdown",
      "source": [
        "간단한 일입니다. 힙은 완전 이진 트리 구조를 가지고 배열을 통해 저장되므로 힙의 마지막 원소를 삭제하는 작업은 배열의 끝에 있는 원소를 제거하는 것과 동일합니다. 배열의 마지막 원소를 삭제하는 것은 재배열이나 스며내리기 없이 한 번의 연산으로 처리할 수 있기 때문에 매우 간단한 작업입니다."
      ],
      "metadata": {
        "id": "l4YYurOaPnJ5"
      }
    },
    {
      "cell_type": "markdown",
      "source": [
        "##5.6"
      ],
      "metadata": {
        "id": "Z7L_dWhhPoKd"
      }
    },
    {
      "cell_type": "markdown",
      "source": [
        "이 방법은 본문에 제시한 방법에 비해 효율적이지 않습니다. 본문에 제시한 방법은 일반적으로 스며내리기를 사용하여 시간 복잡도는 Θ(n)입니다. 하지만 스며오르기를 한다면 노드 하나당 최대 log n의 시간이 걸리고 그렇다면 시간 복잡도는 Θ(n log n)으로 본문에 제시한 방법보다 덜 효율적인 것을 알 수 있습니다."
      ],
      "metadata": {
        "id": "IJOCg29WPpTC"
      }
    },
    {
      "cell_type": "markdown",
      "source": [
        "##5.7"
      ],
      "metadata": {
        "id": "6oTb_q_0Pssg"
      }
    },
    {
      "cell_type": "markdown",
      "source": [
        "스며올리기를 이용하면 됩니다. 값이 증가한 노드의 인덱스를 I라고 한다면 I가 루트가 아니고 부모노드보다 값이 크다면 두 값을 교환합니다.. 부모 노드로 인덱스를 옮기고 위의 과정을 반복합니다. 조건을 만족할 때까지 반복하거나 루트에 도달하면 종료합니다. 이런 과정에서 트리의 높이만큼만 비교가 필요하므로 시간 복잡도는 O(log n)이 됩니다."
      ],
      "metadata": {
        "id": "egYYJQFqPuOk"
      }
    },
    {
      "cell_type": "markdown",
      "source": [
        "#6 LeetCode 703.Kth Largest Element in Stream"
      ],
      "metadata": {
        "id": "1lqzuqcqPy4Q"
      }
    },
    {
      "cell_type": "code",
      "source": [
        "import heapq\n",
        "\n",
        "class KthLargest:\n",
        "    def __init__(self, k: int, nums: list[int]):\n",
        "        self.k = k\n",
        "        self.min_heap = []\n",
        "        for num in nums:\n",
        "            self.add(num)\n",
        "\n",
        "    def add(self, val: int) -> int:\n",
        "        heapq.heappush(self.min_heap, val)\n",
        "        if len(self.min_heap) > self.k:\n",
        "            heapq.heappop(self.min_heap)\n",
        "        return self.min_heap[0]\n"
      ],
      "metadata": {
        "id": "OS7LG_LQP3_4"
      },
      "execution_count": 8,
      "outputs": []
    }
  ]
}